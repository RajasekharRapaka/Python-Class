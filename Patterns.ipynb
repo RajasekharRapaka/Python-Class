{
 "cells": [
  {
   "cell_type": "markdown",
   "id": "18c56543",
   "metadata": {},
   "source": [
    "## Pattern 1"
   ]
  },
  {
   "cell_type": "code",
   "execution_count": 2,
   "id": "a304da93",
   "metadata": {},
   "outputs": [
    {
     "name": "stdout",
     "output_type": "stream",
     "text": [
      "1 \r\n",
      "1 2 \r\n",
      "1 2 3 \r\n",
      "1 2 3 4 \r\n",
      "1 2 3 4 5 \r\n"
     ]
    }
   ],
   "source": [
    "\n",
    "def numpat(n):\n",
    "    for i in range(0, n):\n",
    "        num = 1\n",
    "        for j in range(0, i+1):\n",
    "            print(num, end=\" \")\n",
    "            num = num + 1\n",
    "        print(\"\\r\")\n",
    "n = 5\n",
    "numpat(n)\n"
   ]
  },
  {
   "cell_type": "markdown",
   "id": "9039c64a",
   "metadata": {},
   "source": [
    "## Pattern 2"
   ]
  },
  {
   "cell_type": "code",
   "execution_count": 9,
   "id": "35c082c2",
   "metadata": {},
   "outputs": [
    {
     "name": "stdout",
     "output_type": "stream",
     "text": [
      "1 \r\n",
      "2 2 \r\n",
      "3 3 3 \r\n",
      "4 4 4 4 \r\n",
      "5 5 5 5 5 \r\n"
     ]
    }
   ],
   "source": [
    "def pattern_2(n):\n",
    "    num = 1\n",
    "    for i in range(0, n):\n",
    "        for j in range(0, i+1):\n",
    "            c = int(num)\n",
    "            print(c, end=\" \")\n",
    "        num = num + 1\n",
    "        print(\"\\r\")\n",
    "n = 5\n",
    "pattern_2(n)\n"
   ]
  },
  {
   "cell_type": "markdown",
   "id": "f9f82d95",
   "metadata": {},
   "source": [
    "## Pattern 3"
   ]
  },
  {
   "cell_type": "code",
   "execution_count": 10,
   "id": "9e2ea78b",
   "metadata": {},
   "outputs": [
    {
     "name": "stdout",
     "output_type": "stream",
     "text": [
      "* \n",
      "* * \n",
      "* * * \n",
      "* * * * \n",
      "* * * * * \n"
     ]
    }
   ],
   "source": [
    "for i in range(1,6):\n",
    "    print(\"* \"*i)"
   ]
  },
  {
   "cell_type": "markdown",
   "id": "c6697c9b",
   "metadata": {},
   "source": [
    "## Pattern 4"
   ]
  },
  {
   "cell_type": "code",
   "execution_count": 28,
   "id": "d837ef6a",
   "metadata": {},
   "outputs": [
    {
     "name": "stdout",
     "output_type": "stream",
     "text": [
      "5 4 3 2 1 \r\n",
      "4 3 2 1 \r\n",
      "3 2 1 \r\n",
      "2 1 \r\n",
      "1 \r\n",
      "\r\n"
     ]
    }
   ],
   "source": [
    "def pattern_4(rows):\n",
    "    rows = 5\n",
    "    for i in range(0, rows + 1):\n",
    "        for j in range(rows - i, 0, -1):\n",
    "            print(j, end=' ')\n",
    "        print(\"\\r\")\n",
    "pattern_4(rows)"
   ]
  },
  {
   "cell_type": "markdown",
   "id": "64b67ba4",
   "metadata": {},
   "source": [
    "## Pattern 5"
   ]
  },
  {
   "cell_type": "code",
   "execution_count": 23,
   "id": "3fa8e4c2",
   "metadata": {},
   "outputs": [
    {
     "name": "stdout",
     "output_type": "stream",
     "text": [
      "5 5 5 5 5 \r\n",
      "4 4 4 4 \r\n",
      "3 3 3 \r\n",
      "2 2 \r\n",
      "1 \r\n"
     ]
    }
   ],
   "source": [
    "def pattern_2(n):\n",
    "    num = 5\n",
    "    for i in range(n+1,1,-1):\n",
    "        for j in range(0, i-1):\n",
    "            c = int(num)\n",
    "            print(c, end=\" \")\n",
    "        num = num -1\n",
    "        print(\"\\r\")\n",
    "n = 5\n",
    "pattern_2(n)"
   ]
  },
  {
   "cell_type": "markdown",
   "id": "c46f6f48",
   "metadata": {},
   "source": [
    "## Pateern 6"
   ]
  },
  {
   "cell_type": "code",
   "execution_count": 33,
   "id": "a80a6cf8",
   "metadata": {},
   "outputs": [
    {
     "name": "stdout",
     "output_type": "stream",
     "text": [
      "* * * * * \n",
      "* * * * \n",
      "* * * \n",
      "* * \n",
      "* \n"
     ]
    }
   ],
   "source": [
    "for i in range(5,0,-1):\n",
    "    print(\"* \"*i)"
   ]
  },
  {
   "cell_type": "markdown",
   "id": "2b794a20",
   "metadata": {},
   "source": [
    "## Pattern 7"
   ]
  },
  {
   "cell_type": "code",
   "execution_count": 35,
   "id": "40dcbfc1",
   "metadata": {},
   "outputs": [
    {
     "name": "stdout",
     "output_type": "stream",
     "text": [
      "1 \r\n",
      "2 3 \r\n",
      "4 5 6 \r\n",
      "7 8 9 10 \r\n"
     ]
    }
   ],
   "source": [
    "def contnum(n):\n",
    "    num = 1\n",
    "    for i in range(0, n):\n",
    "        for j in range(0, i+1):\n",
    "            print(num, end=\" \")\n",
    "            num = num + 1\n",
    "        print(\"\\r\") \n",
    "n = 4\n",
    "contnum(n)"
   ]
  },
  {
   "cell_type": "markdown",
   "id": "972176b9",
   "metadata": {},
   "source": [
    "## Pattern 8"
   ]
  },
  {
   "cell_type": "code",
   "execution_count": 47,
   "id": "e95911a9",
   "metadata": {},
   "outputs": [
    {
     "name": "stdout",
     "output_type": "stream",
     "text": [
      "      \n",
      "     *  \n",
      "    *  *  \n",
      "   *  *  *  \n",
      "  *  *  *  *  \n",
      " *  *  *  *  *  \n"
     ]
    }
   ],
   "source": [
    "# Equilateral triangle\n",
    "for i in range(6):\n",
    "    for j in range(6-i):\n",
    "        print(\" \",end=\"\")\n",
    "    for k in range(i):\n",
    "        print(\"* \",end=\" \")\n",
    "    print()"
   ]
  },
  {
   "cell_type": "code",
   "execution_count": null,
   "id": "13c2ff95",
   "metadata": {},
   "outputs": [],
   "source": []
  }
 ],
 "metadata": {
  "kernelspec": {
   "display_name": "Python 3 (ipykernel)",
   "language": "python",
   "name": "python3"
  },
  "language_info": {
   "codemirror_mode": {
    "name": "ipython",
    "version": 3
   },
   "file_extension": ".py",
   "mimetype": "text/x-python",
   "name": "python",
   "nbconvert_exporter": "python",
   "pygments_lexer": "ipython3",
   "version": "3.9.12"
  }
 },
 "nbformat": 4,
 "nbformat_minor": 5
}
